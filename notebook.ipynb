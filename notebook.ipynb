{
 "cells": [
  {
   "cell_type": "code",
   "execution_count": 24,
   "metadata": {
    "collapsed": true
   },
   "outputs": [],
   "source": [
    "# -*- coding: utf8 -*-\n",
    "import re\n",
    "import sys\n",
    "import argparse\n",
    "import pymorphy2\n",
    "import numpy as np\n",
    "import pandas as pd\n",
    "import matplotlib.pyplot as plt\n",
    "from sklearn.feature_extraction.text import CountVectorizer, TfidfTransformer\n",
    "from sklearn.cross_validation import StratifiedKFold, train_test_split\n",
    "from sklearn.ensemble import RandomForestClassifier, AdaBoostClassifier, ExtraTreesClassifier, GradientBoostingClassifier\n",
    "from sklearn.linear_model import LogisticRegression\n",
    "from sklearn.preprocessing import OneHotEncoder\n",
    "from sklearn.neighbors import KNeighborsClassifier\n",
    "from sklearn.metrics import roc_curve, auc\n",
    "from xgboost.sklearn import XGBClassifier\n",
    "from sklearn import linear_model, metrics\n",
    "from scipy import interp\n",
    "\n",
    "%matplotlib inline\n",
    "\n",
    "data_file = \"data/new.txt\"\n",
    "vocab_file = \"data/vocab.txt\"\n",
    "stopwords_file = \"data/stopwords.txt\""
   ]
  },
  {
   "cell_type": "code",
   "execution_count": 25,
   "metadata": {
    "collapsed": false
   },
   "outputs": [],
   "source": [
    "vocab = []\n",
    "with open(vocab_file, \"r\") as f:\n",
    "    s = f.read()\n",
    "    vocab = s.split(',')\n",
    "\n",
    "stopwords = []\n",
    "with open(stopwords_file, \"r\") as f:\n",
    "    s = f.read()\n",
    "    stopwords = s.split(',')\n",
    "brands = [\"mercedes\", \"bmw\", \"mitsubishi\",\"тойота\",\"hyundai\",\"ford\",\"nissan\",\"audi\",\"lexus\",\n",
    "          \"chevrolet\",\"opel\",\"peugeot\",\"mazda\",\"лексус\",\"volvo\", \"мазд\", \"мицубись\", \"ситройня\", \n",
    "          \"киа\", \"renault\",\"kia\", \"toyota\"]"
   ]
  },
  {
   "cell_type": "code",
   "execution_count": 30,
   "metadata": {
    "collapsed": true
   },
   "outputs": [],
   "source": [
    "morph = pymorphy2.MorphAnalyzer()\n",
    "\n",
    "def f(word):\n",
    "    x = morph.parse(word)[0].normal_form\n",
    "    if re.match(\"[0-9]+\", x):\n",
    "        return \"_number\"\n",
    "    elif x in brands:\n",
    "        return \"_brand\"\n",
    "    else: return x\n",
    "\n",
    "def process_table(table):\n",
    "    data = table[1].str.split(',', 2).apply(pd.Series, 1)\n",
    "    data = data[data[2] != \"\"]\n",
    "    data[2] = data[2].apply(lambda x: str(x)[9:-3])\n",
    "    data.columns = [\"id\", \"label\", \"text\"]\n",
    "    data['label'] = data['label'].apply(lambda x: '1' if x == '3' or x == '4' else '0')\n",
    "    return data\n",
    "\n",
    "def process_text(text):\n",
    "    sample = re.split('\\W+', re.sub('\\W(Н|н)(е|Е) ', ' не', text))\n",
    "    l = [f(x) for x in sample if f(x) not in stopwords]\n",
    "    text = ' '.join(l)\n",
    "    return text\n",
    "\n",
    "def process(path):\n",
    "    data = pd.read_csv(path, delimiter='autoru-', header = None, quoting=3, engine='python')\n",
    "    data = process_table(data)\n",
    "    data['text'] = data['text'].apply(lambda x: process_text(x))\n",
    "    data.to_csv(path + \".proc.txt\", sep='\\t', encoding='utf-8')\n",
    "    return data\n"
   ]
  },
  {
   "cell_type": "code",
   "execution_count": 31,
   "metadata": {
    "collapsed": false
   },
   "outputs": [],
   "source": [
    "def read_chunk(f, delimiter):\n",
    "    buf = \"\"\n",
    "    while True:\n",
    "        while delimiter in buf:\n",
    "            pos = buf.index(delimiter)\n",
    "            yield buf[:pos]\n",
    "            buf = buf[pos + len(delimiter):]\n",
    "        chunk = f.read(2048)\n",
    "        if not chunk:\n",
    "            yield buf\n",
    "            break\n",
    "        buf += chunk\n",
    "\n",
    "\n",
    "def get_data(input, flag):\n",
    "    data, labels = [], []\n",
    "    if flag:\n",
    "        train_data = process(input)\n",
    "        data, labels = train_data['text'], train_data['label']\n",
    "    else:\n",
    "        with open(input) as f:\n",
    "            gen = read_chunk(f, \"\\n\")\n",
    "            for i in range(80000):\n",
    "                s = next(gen).split('\\t')\n",
    "                data.append(s[-1])\n",
    "                labels.append(s[-2])\n",
    "    return np.array(data), np.array(labels).astype(int)\n",
    "\n",
    "data, labels = get_data(data_file, True)\n",
    "inv_labels = np.logical_not(labels)"
   ]
  },
  {
   "cell_type": "code",
   "execution_count": 6,
   "metadata": {
    "collapsed": true
   },
   "outputs": [],
   "source": [
    "def get_word_frequencies(some_data, out_file):\n",
    "    word_freq = {}\n",
    "    vectorizer = CountVectorizer(vocabulary=vocab)\n",
    "    data_features = vectorizer.fit_transform(some_data).toarray()\n",
    "    words = vectorizer.get_feature_names()\n",
    "    frequencies = np.sum(data_features, axis=0)\n",
    "    #with open(out_file, \"w+\") as f:\n",
    "    for i, (fr, word) in enumerate(sorted(zip(frequencies, words), reverse=True)):\n",
    "        if word not in stopwords:\n",
    "            #f.write(str(fr) + ' ' + word + '\\n')\n",
    "            word_freq[word] = i + 1\n",
    "    return word_freq\n",
    "\n",
    "#good = get_word_frequencies(data[labels], \"data/clean_good_vocab.txt\")\n",
    "#bad = get_word_frequencies(data[inv_labels], \"data/clean_bad_vocab.txt\")\n",
    "\n",
    "def preprocess(data):\n",
    "    for i in range(len(data)):\n",
    "        for j in range(len(data[0])):\n",
    "            if data[i][j] != 0:\n",
    "                val = (bad[vocab[j]] if vocab[j] in bad else len(bad) / (good[vocab[j]] if vocab[j] in good else len(good)))\n",
    "                data[i][j] = data[i][j] * val\n",
    "            if not np.isfinite(data[i][j]):\n",
    "                print(vocab[j])\n",
    "    return data"
   ]
  },
  {
   "cell_type": "code",
   "execution_count": 14,
   "metadata": {
    "collapsed": false
   },
   "outputs": [
    {
     "name": "stdout",
     "output_type": "stream",
     "text": [
      "TP: 88, TN: 15247, FP: 38, FN: 627\n",
      "Precision Score : 0.698413\n",
      "Recall Score : 0.123077\n",
      "Accuracy : 0.9584\n",
      "TP: 80, TN: 15270, FP: 15, FN: 635\n",
      "Precision Score : 0.842105\n",
      "Recall Score : 0.111888\n",
      "Accuracy : 0.9594\n",
      "TP: 92, TN: 15271, FP: 14, FN: 623\n",
      "Precision Score : 0.867925\n",
      "Recall Score : 0.128671\n",
      "Accuracy : 0.9602\n",
      "TP: 97, TN: 15276, FP: 9, FN: 618\n",
      "Precision Score : 0.915094\n",
      "Recall Score : 0.135664\n",
      "Accuracy : 0.9608\n",
      "TP: 134, TN: 15273, FP: 12, FN: 581\n",
      "Precision Score : 0.917808\n",
      "Recall Score : 0.187413\n",
      "Accuracy : 0.9629\n"
     ]
    },
    {
     "data": {
      "image/png": "[encoded data removed]",
      "text/plain": [
       "<matplotlib.figure.Figure at 0x10463d080>"
      ]
     },
     "metadata": {},
     "output_type": "display_data"
    }
   ],
   "source": [
    "def test(with_probas=True):\n",
    "    cv = StratifiedKFold(labels, n_folds=5)\n",
    "    word_imp = []\n",
    "    for i, (train, test) in enumerate(cv):\n",
    "        vectorizer = CountVectorizer(vocabulary=vocab)\n",
    "        features = vectorizer.fit_transform(data[train])\n",
    "        \n",
    "        # preprocessing with tfidf\n",
    "        #transformer = TfidfTransformer()\n",
    "        #tfidf_features = transformer.fit(features).transform(features)\n",
    "        #X = tfidf_features.toarray()\n",
    "        \n",
    "        # preprocessing with bad/good ranking\n",
    "        #X_train = preprocess(features.toarray())\n",
    "        \n",
    "        X_train, y_train = features.toarray(), labels[train]\n",
    "        X, X1, y, y1 = train_test_split(X_train, y_train, test_size=0.5)\n",
    "        \n",
    "        X_test, y_test = vectorizer.transform(data[test]), labels[test]\n",
    "        #X_test = preprocess(X_test.toarray())\n",
    "        \n",
    "        def with_ensemble():\n",
    "            clf1 = RandomForestClassifier(n_estimators=40)\n",
    "            clf2 = KNeighborsClassifier()\n",
    "            enc = OneHotEncoder()\n",
    "            clf1.fit(X, y)\n",
    "            enc.fit(clf1.apply(X))\n",
    "            clf2.fit(enc.transform(clf1.apply(X1)), y1)\n",
    "            res = clf2.predict(enc.transform(clf1.apply(X_test))) \n",
    "            res_p = clf2.predict_proba(enc.transform(clf1.apply(X_test)))\n",
    "            #feat_imp = sorted(zip(clf2.feature_importances_, range(len(vocab))), reverse=True)\n",
    "            return res, res_p\n",
    "\n",
    "        \n",
    "        clf = XGBClassifier(learning_rate =0.03, n_estimators=150, max_depth=6,\n",
    "                            min_child_weight=4, gamma=0.1, subsample=0.8, \n",
    "                            colsample_bytree=0.8, objective= 'binary:logistic', \n",
    "                            nthread=4, scale_pos_weight=1, seed=27)\n",
    "        clf.fit(X_train, y_train)\n",
    "        res = clf.predict(X_test)\n",
    "        res_p = clf.predict_proba(X_test)\n",
    "        feat_imp = pd.Series(clf.booster().get_fscore()).sort_values(ascending=False)\n",
    "        feat_ind = [ vocab[int(f[1:])] for f in feat_imp.index]\n",
    "        words_imp = zip(feat_imp.values, feat_ind)\n",
    "        #print(words_imp[:10])\n",
    "        \n",
    "        #res, res_p = with_XGB()\n",
    "        \n",
    "        if with_probas:\n",
    "            fpr, tpr, _ = roc_curve(y_test, res_p[:,1])\n",
    "            roc_auc = auc(fpr, tpr)\n",
    "            plt.plot(fpr, tpr, lw=1, label='ROC fold %d (area = %0.2f)' % (i, roc_auc))\n",
    "\n",
    "        check = zip(y_test, res)\n",
    "        tp, tn, fp, fn = 0, 0, 0, 0\n",
    "        for value, prediction in check:\n",
    "            if (prediction and value):\n",
    "                tp += 1\n",
    "            if (prediction and not value):\n",
    "                fp += 1\n",
    "            if (not prediction and value):\n",
    "                fn += 1\n",
    "            if (not prediction and not value):\n",
    "                tn += 1\n",
    "        print ('TP: {0}, TN: {1}, FP: {2}, FN: {3}'.format(tp, tn, fp, fn))\n",
    "        print (\"Precision Score : %f\" % metrics.precision_score(y_test, res))\n",
    "        print (\"Recall Score : %f\" % metrics.recall_score(y_test, res))\n",
    "        print (\"Accuracy : %.4g\" % metrics.accuracy_score(y_test, res))\n",
    "        word_imp = words_imp\n",
    "    if with_probas:\n",
    "        plt.plot([0, 1], [0, 1], '--', color=(0.6, 0.6, 0.6), label='Luck')\n",
    "        plt.xlim([-0.05, 1.05])\n",
    "        plt.ylim([-0.05, 1.05])\n",
    "        plt.xlabel('False Positive Rate')\n",
    "        plt.ylabel('True Positive Rate')\n",
    "        plt.title('Receiver operating characteristic example')\n",
    "        plt.legend(loc=\"lower right\")\n",
    "        plt.show()\n",
    "    return word_imp\n",
    "\n",
    "feat_imp = test()"
   ]
  },
  {
   "cell_type": "code",
   "execution_count": 16,
   "metadata": {
    "collapsed": false
   },
   "outputs": [],
   "source": [
    "a = list(feat_imp)"
   ]
  },
  {
   "cell_type": "code",
   "execution_count": 18,
   "metadata": {
    "collapsed": true
   },
   "outputs": [],
   "source": [
    "with open(\"feature_importance.txt\", \"w+\") as f:\n",
    "    for (imp, word) in a:\n",
    "        f.write(str(imp) + '\\t' + word + '\\n')"
   ]
  }
 ],
 "metadata": {
  "kernelspec": {
   "display_name": "Python 3",
   "language": "python",
   "name": "python3"
  },
  "language_info": {
   "codemirror_mode": {
    "name": "ipython",
    "version": 3
   },
   "file_extension": ".py",
   "mimetype": "text/x-python",
   "name": "python",
   "nbconvert_exporter": "python",
   "pygments_lexer": "ipython3",
   "version": "3.5.1"
  }
 },
 "nbformat": 4,
 "nbformat_minor": 0
}
